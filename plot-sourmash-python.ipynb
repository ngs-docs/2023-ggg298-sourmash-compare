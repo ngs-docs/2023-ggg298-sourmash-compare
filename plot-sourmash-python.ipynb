{
 "cells": [
  {
   "cell_type": "markdown",
   "id": "a265234f",
   "metadata": {},
   "source": [
    "# Load and plot a sourmash matrix!"
   ]
  },
  {
   "cell_type": "code",
   "execution_count": 3,
   "id": "ae8e03df",
   "metadata": {},
   "outputs": [],
   "source": [
    "import sourmash, sourmash.fig"
   ]
  },
  {
   "cell_type": "markdown",
   "id": "50c8752c",
   "metadata": {},
   "source": [
    "## Load matrix and labels"
   ]
  },
  {
   "cell_type": "code",
   "execution_count": 10,
   "id": "001888c7",
   "metadata": {},
   "outputs": [],
   "source": [
    "mat, labels = sourmash.fig.load_matrix_and_labels('compare.mat')"
   ]
  },
  {
   "cell_type": "markdown",
   "id": "945f5e3b",
   "metadata": {},
   "source": [
    "## Plot using the internal sourmash code\n",
    "\n"
   ]
  },
  {
   "cell_type": "code",
   "execution_count": 9,
   "id": "00bf2d39",
   "metadata": {},
   "outputs": [
    {
     "data": {
      "text/plain": [
       "(<Figure size 792x576 with 3 Axes>,\n",
       " ['NC_010655.1 Akkermansia muciniphila ATCC BAA-835, complete sequence',\n",
       "  'NC_011663.1 Shewanella baltica OS223, complete sequence',\n",
       "  'NC_009665.1 Shewanella baltica OS185, complete sequence'],\n",
       " array([[1.       , 0.       , 0.       ],\n",
       "        [0.       , 1.       , 0.3206949],\n",
       "        [0.       , 0.3206949, 1.       ]]))"
      ]
     },
     "execution_count": 9,
     "metadata": {},
     "output_type": "execute_result"
    },
    {
     "data": {
      "image/png": "[encoded data removed]",
      "text/plain": [
       "<Figure size 792x576 with 3 Axes>"
      ]
     },
     "metadata": {
      "needs_background": "light"
     },
     "output_type": "display_data"
    }
   ],
   "source": [
    "sourmash.fig.plot_composite_matrix(mat, labels)"
   ]
  },
  {
   "cell_type": "code",
   "execution_count": null,
   "id": "2a2bf9fd",
   "metadata": {},
   "outputs": [],
   "source": []
  }
 ],
 "metadata": {
  "kernelspec": {
   "display_name": "py38arm",
   "language": "python",
   "name": "py38arm"
  },
  "language_info": {
   "codemirror_mode": {
    "name": "ipython",
    "version": 3
   },
   "file_extension": ".py",
   "mimetype": "text/x-python",
   "name": "python",
   "nbconvert_exporter": "python",
   "pygments_lexer": "ipython3",
   "version": "3.8.13"
  }
 },
 "nbformat": 4,
 "nbformat_minor": 5
}
